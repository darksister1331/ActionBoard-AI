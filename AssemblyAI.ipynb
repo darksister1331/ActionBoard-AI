{
  "nbformat": 4,
  "nbformat_minor": 0,
  "metadata": {
    "colab": {
      "provenance": [],
      "authorship_tag": "ABX9TyNxQj0SNFg4YVQh7L2Pa/IC",
      "include_colab_link": true
    },
    "kernelspec": {
      "name": "python3",
      "display_name": "Python 3"
    },
    "language_info": {
      "name": "python"
    }
  },
  "cells": [
    {
      "cell_type": "markdown",
      "metadata": {
        "id": "view-in-github",
        "colab_type": "text"
      },
      "source": [
        "<a href=\"https://colab.research.google.com/github/darksister1331/ActionBoard-AI/blob/main/AssemblyAI.ipynb\" target=\"_parent\"><img src=\"https://colab.research.google.com/assets/colab-badge.svg\" alt=\"Open In Colab\"/></a>"
      ]
    },
    {
      "cell_type": "code",
      "source": [
        "!pip install pydub\n",
        "!apt-get install ffmpeg"
      ],
      "metadata": {
        "colab": {
          "base_uri": "https://localhost:8080/"
        },
        "id": "pdfkOOmcHn7V",
        "outputId": "efef4d0f-5eb4-45f4-9aee-a8ca03010a4a"
      },
      "execution_count": null,
      "outputs": [
        {
          "output_type": "stream",
          "name": "stdout",
          "text": [
            "Collecting pydub\n",
            "  Downloading pydub-0.25.1-py2.py3-none-any.whl.metadata (1.4 kB)\n",
            "Downloading pydub-0.25.1-py2.py3-none-any.whl (32 kB)\n",
            "Installing collected packages: pydub\n",
            "Successfully installed pydub-0.25.1\n",
            "Reading package lists... Done\n",
            "Building dependency tree... Done\n",
            "Reading state information... Done\n",
            "ffmpeg is already the newest version (7:4.4.2-0ubuntu0.22.04.1).\n",
            "0 upgraded, 0 newly installed, 0 to remove and 35 not upgraded.\n"
          ]
        }
      ]
    },
    {
      "cell_type": "markdown",
      "source": [
        "### Convert .MA4 file into .wav file"
      ],
      "metadata": {
        "id": "PkKtNb9iXyqy"
      }
    },
    {
      "cell_type": "code",
      "source": [
        "from pydub import AudioSegment\n",
        "\n",
        "# Load the .m4a file\n",
        "audio = AudioSegment.from_file(\"enter file path\", format=\"m4a\")\n",
        "\n",
        "# Export to .wav format\n",
        "audio.export(\"enter file path\", format=\"wav\")\n"
      ],
      "metadata": {
        "colab": {
          "base_uri": "https://localhost:8080/"
        },
        "id": "RIro2dDNHr2B",
        "outputId": "8c29af3e-286a-4849-ab65-48b79ab23205"
      },
      "execution_count": null,
      "outputs": [
        {
          "output_type": "execute_result",
          "data": {
            "text/plain": [
              "<_io.BufferedRandom name='/content/audio.wav'>"
            ]
          },
          "metadata": {},
          "execution_count": 3
        }
      ]
    },
    {
      "cell_type": "markdown",
      "source": [
        "### .wav file import"
      ],
      "metadata": {
        "id": "WnBbmLI_X6bp"
      }
    },
    {
      "cell_type": "code",
      "source": [
        "import os\n",
        "print(os.path.getsize(\"enter file path \"))  # Should be > 0 bytes\n"
      ],
      "metadata": {
        "colab": {
          "base_uri": "https://localhost:8080/"
        },
        "id": "QQFPRYRtIOCk",
        "outputId": "1c09bc45-4a6d-41ee-ff58-f969f43ebe75"
      },
      "execution_count": null,
      "outputs": [
        {
          "output_type": "stream",
          "name": "stdout",
          "text": [
            "142989356\n"
          ]
        }
      ]
    },
    {
      "cell_type": "markdown",
      "source": [
        "### Upload audio file to AssemblyAI"
      ],
      "metadata": {
        "id": "KxsubbnLX9-A"
      }
    },
    {
      "cell_type": "code",
      "source": [
        "import requests\n",
        "\n",
        "api_key = \"b9d094c60c6a4aa78fd4d54feadc7d73\"  # Replace with your API key\n",
        "headers = {'authorization': api_key}\n",
        "\n",
        "def upload_audio(file_path):\n",
        "    with open(file_path, 'rb') as f:\n",
        "        response = requests.post(\"https://api.assemblyai.com/v2/upload\", headers=headers, data=f)\n",
        "    return response.json()[\"upload_url\"]\n",
        "\n",
        "audio_url = upload_audio(\"enter file path\")\n",
        "print(\"Uploaded audio URL:\", audio_url)\n"
      ],
      "metadata": {
        "colab": {
          "base_uri": "https://localhost:8080/"
        },
        "id": "bpA2-XHwImVi",
        "outputId": "00416f2d-5290-4a09-e568-a74baf346e4a"
      },
      "execution_count": null,
      "outputs": [
        {
          "output_type": "stream",
          "name": "stdout",
          "text": [
            "Uploaded audio URL: https://cdn.assemblyai.com/upload/d573db1a-7f4e-4bc9-8f7c-47b107f73e68\n"
          ]
        }
      ]
    },
    {
      "cell_type": "code",
      "source": [
        "json_data = {\n",
        "    \"audio_url\": audio_url,\n",
        "    \"speaker_labels\": True  # Enables speaker diarization\n",
        "}\n",
        "\n",
        "transcript_response = requests.post(\n",
        "    \"https://api.assemblyai.com/v2/transcript\",\n",
        "    headers=headers,\n",
        "    json=json_data\n",
        ")\n",
        "\n",
        "transcript_id = transcript_response.json()[\"id\"]\n",
        "print(\"Transcript ID:\", transcript_id)\n"
      ],
      "metadata": {
        "colab": {
          "base_uri": "https://localhost:8080/"
        },
        "id": "fqoJt9tTIxly",
        "outputId": "7e28c45c-2d30-4eeb-c235-42dd6475c123"
      },
      "execution_count": null,
      "outputs": [
        {
          "output_type": "stream",
          "name": "stdout",
          "text": [
            "Transcript ID: d69ee735-32ec-4ebc-98ed-d5f165ec02ce\n"
          ]
        }
      ]
    },
    {
      "cell_type": "code",
      "source": [
        "import time\n",
        "\n",
        "def poll_transcript(transcript_id):\n",
        "    polling_url = f\"https://api.assemblyai.com/v2/transcript/{transcript_id}\"\n",
        "    while True:\n",
        "        res = requests.get(polling_url, headers=headers).json()\n",
        "        if res['status'] == 'completed':\n",
        "            return res\n",
        "        elif res['status'] == 'error':\n",
        "            raise Exception(\"Transcription failed:\", res)\n",
        "        print(\"Waiting for transcript...\")\n",
        "        time.sleep(5)\n",
        "\n",
        "final_result = poll_transcript(transcript_id)\n"
      ],
      "metadata": {
        "colab": {
          "base_uri": "https://localhost:8080/"
        },
        "id": "HE5qerQVI1P8",
        "outputId": "d3f0513b-5dc7-44a0-d381-b19cb71f57b0"
      },
      "execution_count": null,
      "outputs": [
        {
          "output_type": "stream",
          "name": "stdout",
          "text": [
            "Waiting for transcript...\n",
            "Waiting for transcript...\n",
            "Waiting for transcript...\n",
            "Waiting for transcript...\n",
            "Waiting for transcript...\n"
          ]
        }
      ]
    },
    {
      "cell_type": "markdown",
      "source": [
        "### Transcript with Speakers"
      ],
      "metadata": {
        "id": "t6FQ5DnIYUWw"
      }
    },
    {
      "cell_type": "code",
      "source": [
        "for utterance in final_result['utterances']:\n",
        "    speaker = utterance['speaker']\n",
        "    start = round(utterance['start'] / 1000, 2)\n",
        "    end = round(utterance['end'] / 1000, 2)\n",
        "    text = utterance['text']\n",
        "    print(f\"Speaker {speaker} | [{start}-{end}] {text}\")\n"
      ],
      "metadata": {
        "colab": {
          "base_uri": "https://localhost:8080/"
        },
        "id": "STfiLkvXJW8c",
        "outputId": "68a0dcd3-d3fc-4ae3-f9cb-db6ac22ab162"
      },
      "execution_count": null,
      "outputs": [
        {
          "output_type": "stream",
          "name": "stdout",
          "text": [
            "Speaker A | [5.12-9.84] Okay so can you guys show us what you.\n",
            "Speaker B | [10.4-10.88] Yes.\n",
            "Speaker A | [11.12-11.6] Yeah.\n",
            "Speaker B | [25.69-25.93] It.\n",
            "Speaker C | [64.18-64.5] Hello.\n",
            "Speaker B | [66.82-69.94] How are you doing today? Hello.\n",
            "Speaker A | [76.83-77.15] Foreign.\n",
            "Speaker B | [84.83-85.87] How are you today?\n",
            "Speaker A | [86.67-100.03] Hi, I'm good. So who is going to share like you you said. You guys said that it's done so I just wanted to see.\n",
            "Speaker B | [101.07-138.71] Yeah, okay. So basically yeah so me and like General we had a like meeting yesterday and we just you know work together and just about the API and today I I also worked and I just finished like signing and like sign up and you know OTB verification stuff. Okay, let me share share you so all of all of you guys here Actor ng ag. Okay so let me. Let me share my screen. So so can you allow me to share my screen?\n",
            "Speaker D | [139.83-140.39] Yeah.\n",
            "Speaker B | [142.39-247.94] Okay, thank you. So basically just give me one. So so yeah I I just you know this is our when our somebody hit in our URL so he will be reaching this our home of our website and here is like advanced meeting intelligence stuff and more more you know the description about our how our like system works and this kind of stuff and here you can just get start free and sign in whatever. Okay. He just want to just get start free. Okay so let me. Let me just remove my account here from here. Just give me one second. Okay. Yeah so okay, I delete my account. Okay so so just like somebody wants to create an account so I'm just creating account. Okay. And he must must to be like like 18 like 16 plus. Okay so so just like I just put 1999 and give today's date only. Okay. Yeah okay today's date. Yeah but it's not going to work.\n",
            "Speaker A | [248.02-249.62] Okay, okay. Okay okay.\n",
            "Speaker B | [250.5-323.58] There is some restriction 13, 13 years. Okay yeah so auxizor a hash 1999. Okay okay so I'm just creating account. Okay guys, let's do this. Okay okay so NOTP has been sent to you the given email. Okay so let me check my email. My email. So OTP is here. OTP is here. Triple two eight two four. Okay so eight two four. Okay very famous. Okay so okay so so email is verified already. You know everything is verified and I logged in. Just you see the dashboard. Okay so when I'm in the dashboard. Okay so I can get the home page and dashboard stuff and I there, there is some option here profile and I add in. What do you guys think? Like favorite meeting. Should I add in like features? What do you guys think? Should should we put this one?\n",
            "Speaker A | [325.74-337.42] So instead of favorite meeting maybe you can put something else like okay, okay sure I'll remove but favorite meeting is also required. Like someone Might be saving the important meetings.\n",
            "Speaker B | [339.34-352.35] Yeah. So. Okay. And he can view his. Oh, hello. Yeah, yeah, we are. We're on the call. Yeah, can you send me the link?\n",
            "Speaker E | [352.35-353.59] Because I don't have the link.\n",
            "Speaker B | [353.59-355.43] Okay, okay, let me, let me share with you.\n",
            "Speaker E | [355.83-356.87] Who sent the link?\n",
            "Speaker B | [356.87-359.67] You or edgy.\n",
            "Speaker E | [360.79-363.55] So a never copied me. So can you send it to me?\n",
            "Speaker B | [363.55-364.99] Yeah, sure, just give.\n",
            "Speaker E | [364.99-366.31] Okay, thank you.\n",
            "Speaker B | [372.96-374.24] Just give me one second. Kashmir.\n",
            "Speaker A | [374.64-380.64] Yeah, he called me too. I couldn't get it. Like I. I just saw now.\n",
            "Speaker B | [392.72-395.04] Okay, I already sent you. You can you guess.\n",
            "Speaker E | [396.49-397.17] Just let me see.\n",
            "Speaker B | [397.17-398.01] Okay, sure.\n",
            "Speaker E | [398.57-401.49] Okay, you go ahead. Okay. I don't want to disturb you.\n",
            "Speaker B | [401.49-401.85] Go ahead.\n",
            "Speaker E | [401.85-403.33] If I have any problem, I'll call you.\n",
            "Speaker B | [403.33-450.09] Okay. Okay. Thank you. You're welcome. Okay, so guys, so basically, okay, someone you can see user profile. Okay, my name is Azizil Rahman. My email, date of birth, country and all the other stuff. And we will add more features, two factor authentication later. And he can, he can also like change. Somebody can also change his password, you know, and change password. And also we'll add some feature setting, you know, more stuff later. Right now we just implemented some stuff. Okay so okay, so this is our authentication. And also I just logged out. Okay. When I log out.\n",
            "Speaker A | [450.09-452.21] Okay. Okay.\n",
            "Speaker B | [452.45-482.53] Everything okay, so so he can, he can just remove everything from our like his token or other stuff, you know, in the back end. Okay so I want to just sign in. Okay, sign in. I. I already create an account. Okay, so my password was. Sorry, my password was a 1999. Okay, so sign. Okay, so.\n",
            "Speaker A | [482.53-489.41] Oh, I think one Z. You forgot to put the second Z. Remove the second Z. Maybe that will work.\n",
            "Speaker B | [489.41-491.93] This one, this one. Yeah, yeah.\n",
            "Speaker A | [491.93-494.29] The I also. You remove the I also.\n",
            "Speaker B | [494.45-523.85] Yeah, yeah. Okay. Yeah, I just by mistake. Okay, thank you. So okay, so I just logged in. Okay. And I, I reaching the like dashboard and, and all this stuff, these are like static. Okay, we're going to make it dynamic in later. Right now today we just worked on our authentication and this is our sign in and sign out. And like. Sorry, login and log out and.\n",
            "Speaker E | [526.01-526.65] Aure.\n",
            "Speaker B | [526.81-528.37] Yes, you change it.\n",
            "Speaker E | [528.37-532.97] It was sign in and sign up. All of a sudden you have now login and log out.\n",
            "Speaker B | [533.55-535.23] Sign in and sign up. Yeah. Here.\n",
            "Speaker E | [535.47-536.35] Yeah. Okay.\n",
            "Speaker B | [536.59-596.0] Okay so okay, so you just reach in here. So okay, get in here. Got in here. So let me explain again. Okay, so basically me and Gerald work yesterday. The. He just shared me all the backend API and I just implement today, you know, everything. So in basically just give me one second. Let me remove my Account from here. Okay. I will create by Kashmir's account. Okay. Okay so. Okay so okay so just you know when, when user is like get in the homepage and sorry homepage it will be uh shown uh, in his homepage like advanced meeting intelligence and this stuff and everything you need for smarter meeting, uh, smart recording and AI transcription and intelligent summarize and universal integration stuff is like just as a like sample data. You know we, we're going to modify.\n",
            "Speaker E | [596.32-597.92] It's okay, we can change it later.\n",
            "Speaker B | [597.92-598.88] Yeah, you did.\n",
            "Speaker E | [598.96-601.36] You did a good job. Okay. At least you tried.\n",
            "Speaker B | [601.36-637.67] Okay so then users is going to go to the sign up. Okay. Sign up. So I'm going to create a Kashmir. Kashmir. Okay. Okay. So what is your email? Kashmir d e y dui.k@.k@ northeastern n o R T. Okay. I'll get it from here. Okay, sorry. This one.\n",
            "Speaker A | [637.75-638.23] Yeah.\n",
            "Speaker B | [638.71-648.26] Okay. Okay. So select country just like United States. And they don't. Okay. Okay.\n",
            "Speaker A | [648.26-649.22] You can give yours.\n",
            "Speaker B | [649.3-649.86] Okay.\n",
            "Speaker E | [651.06-652.5] You don't have to reveal your age.\n",
            "Speaker A | [652.66-653.22] Okay.\n",
            "Speaker B | [653.22-653.78] Okay.\n",
            "Speaker A | [654.26-654.9] Thank you.\n",
            "Speaker E | [655.54-657.14] You can use my birthday.\n",
            "Speaker B | [657.14-668.13] 77144 19. Okay. 7144.\n",
            "Speaker E | [668.87-672.18] 0707-01-1944.\n",
            "Speaker B | [674.27-680.11] Okay so, I'm just putting the password like Kashmir Kashmir.\n",
            "Speaker A | [680.11-681.15] Only say it.\n",
            "Speaker B | [684.51-691.23] Like hash. Okay. Just like hash. 11 2. Okay.\n",
            "Speaker A | [691.39-691.95] Okay.\n",
            "Speaker B | [691.95-705.46] This is your password. Okay. I'm just putting in the one tab. Next time I forget it. Good. Okay so Kashmir again. So okay so again like this and create an account.\n",
            "Speaker A | [707.22-709.18] Check my email for otp.\n",
            "Speaker B | [709.18-714.02] One second. Just give one. Should be.\n",
            "Speaker A | [724.36-727.4] Password. You kept some restrictions.\n",
            "Speaker B | [728.2-730.44] Consolidation should be shown in here. Okay.\n",
            "Speaker A | [730.6-731.16] Okay.\n",
            "Speaker B | [734.68-741.8] I think this email is working or not? I don't know. I have no idea. Yeah, yeah, yeah. This is the. You know, not Gmail. You know.\n",
            "Speaker A | [741.8-742.76] Yeah. Edu.\n",
            "Speaker B | [742.84-746.52] So yeah. So is it like 07?\n",
            "Speaker A | [749.24-751.46] I can check my stuff RAM folder.\n",
            "Speaker B | [757.06-776.77] Taking the password. What's going on? I think this is. Okay, allow me. I don't know.\n",
            "Speaker A | [776.93-778.57] I can give you my Gmail address.\n",
            "Speaker B | [778.57-781.41] Email account. Okay, you can give me your Gmail.\n",
            "Speaker A | [781.97-785.09] D. Okay, you input my name.\n",
            "Speaker B | [785.57-806.0] Just give me one second. Let me go to the another browser. Okay. Yeah. Okay. So okay. What's your email? D E Y Just give me one second. My app is running or not. Okay, just give me one second.\n",
            "Speaker A | [806.0-806.44] Okay.\n",
            "Speaker B | [806.68-842.93] Just let me check. Run again. So run again. Okay. Gosh. Okay.\n",
            "Speaker A | [843.65-848.77] D E Y D E Y Kashmira.\n",
            "Speaker B | [850.53-851.09] Okay.\n",
            "Speaker A | [851.17-852.75] @Gmail.Com.\n",
            "Speaker B | [853.11-896.21] @Gmail.Com. okay, but I'm just putting 07. Okay. 7011944 44. Sorry. 1944. Okay. And password is like mirror. Okay. 17. Okay. I'm putting the password. Okay. I think there is something backend issue. Something you know, I don't know. It's. I just run it very smoothly. I don't know right now what's going on.\n",
            "Speaker E | [897.25-899.73] Your app might not be running for some reason.\n",
            "Speaker B | [900.21-908.11] I don't know what I. I run so many times I tested. But right now register everything.\n",
            "Speaker A | [908.11-911.67] It's working with your email, so it should work with other email.\n",
            "Speaker E | [911.91-914.63] Why didn't you. Why didn't you try with your email and see how.\n",
            "Speaker B | [914.79-925.27] Okay, let me. Let me check one second. Yeah, by email. My email. Okay, just give me a. Let me remove the first. Just give me.\n",
            "Speaker A | [941.36-943.2] You can just change the email address.\n",
            "Speaker B | [945.92-987.07] Yeah, yeah. Okay. United Kingdom. United. I think I put like United Kingdom. There's the reason. You know, I think the back end there. United Kingdom, United States some problem in the back end probably. Okay, so United States and okay, the Kashmir. Okay, so okay, everything is okay. Perfect. What's going on? Just give me one second.\n",
            "Speaker E | [989.03-989.67] Take your time.\n",
            "Speaker B | [989.99-992.79] No, yeah, I'm just. I think backend is.\n",
            "Speaker A | [995.35-996.63] Did you remove your.\n",
            "Speaker B | [997.03-997.43] This.\n",
            "Speaker A | [997.67-999.03] Remove it from this thing?\n",
            "Speaker B | [999.75-1082.02] I just remove in the. From the back end. You know, you see there is no account. Okay, let me check again. It's working or not back end link. It's working. It. Yeah, right now it's working. I think the back end. I think that we just host website in the. You know, free. There's the reason. Maybe there's.\n",
            "Speaker E | [1082.18-1085.98] Okay, go. Go to your. Go and see if you can find the OTP number.\n",
            "Speaker B | [1085.98-1229.56] Yeah, OTP is here. Okay. Yeah. And put the code OTP is like 723759. Yes, 723759. Okay so verify email. So yeah, so right now it's verified. Okay, so login. So when login I go to the like dashboard and in dashboard I have like profile favorite meeting. Okay so I can go to the. My profile. Okay. My name is Azizur Rahman. Email address like this country US and password and other stuff. Like I can change my password. It's not. Right now it's not available. We will implement it later and we can. We also we are going to implement. Going to be implementing two factor authentication later. And this is my dashboard and my right now my home screen is like this. When I'm. I'm not logging my home screen would be like this you know because I'm not able to access because I'm. I'm not login logged in. Okay so let me already I have created my account. So let me sign in again. Okay, so my name is azizu. So Azizur Hash 1999. Okay so remember me? So sign in. Yeah, I also log in. Okay so right now if I go to the home page. So the other one is not available right now because I also already log in. Yeah. So yeah, my profile, favorite meeting and other stuff. And I can click this stuff. Okay so right now these are static because we, I. We didn't work on it. We'll. We'll be done by this Sunday. I will work on the like Tomorrow in, in 2 days. About the backend API with Zoom and other stuff. Like you know, to retrieve all the meeting and summarization and like transcription stuff. Yeah. And this is done. So let me log out when I log out. So everything arrays, you know. And I can see, I can sign in, sign up. So let me sign up again. Okay, so let me. Kashmira. So right now. Yeah, yeah. Kashmir.\n",
            "Speaker A | [1229.8-1233.0] Okay, you can my Gmail. D Y K.\n",
            "Speaker B | [1234.76-1239.8] S H M I r Gmail com. Gmail.com. it's good.\n",
            "Speaker A | [1240.04-1240.52] Yeah.\n",
            "Speaker B | [1240.76-1243.84] United State. Okay. Birth. Okay. Okay.\n",
            "Speaker E | [1243.84-1245.82] 0701.\n",
            "Speaker B | [1246.26-1274.93] 07011 and 1944. 1944. Okay. Okay. And Kashmir,. Sorry. Ash. 19. Sorry. 17. Doing this one again when I. I think with the date of birth problem. Something. Let me check. 99. Let me check it. I think we have some error in the.\n",
            "Speaker E | [1276.05-1281.09] It could be. It does. It does not take care of old, old people like me.\n",
            "Speaker B | [1283.35-1286.31] I didn't. I didn't put any logic like that though.\n",
            "Speaker E | [1286.55-1290.39] But you're knowing you immersively have done it.\n",
            "Speaker B | [1291.35-1296.31] Yeah, but we have to test it more and I don't know what's going on.\n",
            "Speaker A | [1296.31-1297.59] Your date of birth.\n",
            "Speaker B | [1298.71-1300.07] I don't know what's going on.\n",
            "Speaker A | [1301.19-1305.03] Keep everything the same as you, but just change the email id.\n",
            "Speaker B | [1306.79-1307.99] Just give me. Okay.\n",
            "Speaker E | [1308.07-1311.68] Put your date. Made a good suggestion. Put your date of birth. Okay.\n",
            "Speaker B | [1312.4-1313.04] Okay.\n",
            "Speaker E | [1313.76-1314.96] And see what happens.\n",
            "Speaker B | [1316.72-1317.76] I put level 19.\n",
            "Speaker E | [1317.76-1319.04] Yes, yes. Go ahead.\n",
            "Speaker B | [1324.16-1329.2] Just give me one once again. Let me do it. This is not my date of art though.\n",
            "Speaker E | [1329.52-1330.32] It doesn't matter.\n",
            "Speaker A | [1330.64-1334.64] Whatever it is like whatever you have used most of the time.\n",
            "Speaker E | [1335.52-1338.36] She is trying to repeat what you did before.\n",
            "Speaker B | [1338.6-1339.16] Okay.\n",
            "Speaker E | [1339.48-1343.32] Because it works. So she's trying to see if it works and it does.\n",
            "Speaker B | [1345.4-1352.0] So right now it's not gonna. Because. Because I already have a account with. With this email, you know.\n",
            "Speaker A | [1352.0-1362.28] No, no, change. Change it to my email address. Just change the email address. D Y K A S H and my array.\n",
            "Speaker B | [1364.22-1371.1] Okay. Okay, let me check. Okay.\n",
            "Speaker A | [1372.54-1373.62] Yeah. I got, I got.\n",
            "Speaker B | [1373.62-1392.97] Okay, 662-665-35535. Okay, verify email. This is for testing. We'll remove it. You know, the other one and this stuff. Okay. Yeah, so, okay, Kashmir. So I, I'll go to your profile.\n",
            "Speaker A | [1393.93-1394.57] Okay.\n",
            "Speaker B | [1395.53-1456.96] It's okay. Okay, first name, last name, email address, date of birth, country and you know, all the other stuff and. Yeah, and so, yeah, so all the stuff. Okay, so let me log out and sign in again. What is your d e y dot com? I forget the password. Like maybe azizu/1999. I just forget. Yeah, not this, not this. Kashmira. Oh, sorry. 17. Let me check. Yeah, it works. Yeah, this is the. Okay, so yeah, so this is all the stuff, your profile and other stuff.\n",
            "Speaker E | [1457.2-1474.71] So yes, first of all, good job. You know, it's, it's sort of working. You and Joy rule and Aggie need to get together to see why there are some kinks, you know, there are some bugs. Okay. Yeah, yeah, please try to fix them tomorrow.\n",
            "Speaker B | [1474.71-1475.99] Okay, yeah.\n",
            "Speaker E | [1476.95-1477.51] Okay.\n",
            "Speaker A | [1479.35-1487.43] So divor you guys able to use the login with just the Google, Google mail id? Like there was another option, right?\n",
            "Speaker B | [1488.15-1494.55] We didn't work yet. Yeah, this is just not your work yet. We'll work on it.\n",
            "Speaker A | [1494.94-1506.14] Okay. Okay, that is fine. And what about integrating it with zoom? Were you guys able to make any progress? Were you doing it or. Joel.\n",
            "Speaker B | [1508.3-1509.66] Is working on the integrated.\n",
            "Speaker E | [1509.98-1510.98] Is working on that one.\n",
            "Speaker A | [1510.98-1511.3] Okay.\n",
            "Speaker B | [1511.3-1518.06] Okay, yeah, you can take over the screen. Okay, that's one.\n",
            "Speaker C | [1518.06-1541.5] No, yeah, I don't have to share anything like on the screen, but I, I need to. What I was doing, I already integrated zoom, but the problem is to fetch previous meetings. I cannot do it with my account. No, I cannot test it out also. So I think I need a test it up.\n",
            "Speaker A | [1541.74-1543.82] The one that Aggie is using right now.\n",
            "Speaker E | [1543.82-1546.54] Yes, you use what Istx shared yesterday.\n",
            "Speaker B | [1547.17-1548.21] Okay. Okay.\n",
            "Speaker F | [1552.29-1552.93] The website.\n",
            "Speaker D | [1553.01-1553.41] Yeah.\n",
            "Speaker E | [1553.41-1558.53] Okay. Yeah, Please share that account with your rule. Okay.\n",
            "Speaker D | [1558.77-1559.41] Okay.\n",
            "Speaker C | [1560.37-1570.37] I need, I need to create some apps inside that Zoom and create organization also to add Aggies as a tester as well.\n",
            "Speaker E | [1570.61-1577.52] Whatever you want to, whatever you need to do, you do it. And Aggie is going to share you the Zoom credentials. Okay?\n",
            "Speaker B | [1577.68-1578.64] Oh, okay.\n",
            "Speaker E | [1579.76-1580.56] Could you do that?\n",
            "Speaker D | [1581.04-1582.24] Yeah, I can send them.\n",
            "Speaker E | [1582.8-1586.24] Please send it. This is STX account. Okay.\n",
            "Speaker A | [1586.8-1600.08] Okay, so zur, I have just one more suggestion. Like the, maybe add a zoom button so that they can connect it like the moment you log in.\n",
            "Speaker B | [1600.42-1608.42] Yeah. Okay, so like this. Okay, let me just give me one second. Okay.\n",
            "Speaker E | [1614.82-1618.66] In fact, we wanted three by three button.\n",
            "Speaker B | [1618.66-1621.94] So Button should be. Should be where button should be.\n",
            "Speaker A | [1622.74-1625.22] So which one is the first page? That.\n",
            "Speaker B | [1625.22-1627.3] This is the first page. This is the first page.\n",
            "Speaker A | [1627.3-1633.91] Okay. Okay. So maybe put it. Put the zoom button inside any of the. Dr. D. Do you have any?\n",
            "Speaker E | [1633.99-1634.39] No.\n",
            "Speaker A | [1635.27-1635.83] Yeah.\n",
            "Speaker E | [1636.39-1653.39] Good thing you pointed out. We. We did. We discussed that if right here also we'll have three buttons. Zoom somewhere. Zoom, then Google Meet and Microsoft, whatever it is called. Okay.\n",
            "Speaker B | [1653.39-1654.63] Microsoft Team. Yeah.\n",
            "Speaker E | [1654.71-1656.39] Yes. So you need three buttons.\n",
            "Speaker A | [1657.24-1663.88] You decide add organization. You can add them. What decide this add organization.\n",
            "Speaker E | [1664.2-1664.68] Yes.\n",
            "Speaker B | [1664.76-1665.12] Right.\n",
            "Speaker E | [1665.12-1667.48] Right. You could have three. Three buttons.\n",
            "Speaker B | [1667.96-1668.32] If.\n",
            "Speaker C | [1668.32-1670.04] If I could suggest something, I.\n",
            "Speaker E | [1671.0-1671.56] Go ahead.\n",
            "Speaker C | [1672.92-1707.32] Yeah. Yeah. So whenever a user click on any organization, then if. Then he will prompted to add new account under that organization. This way we can differentiate different accounts under different organization. For example, there are next generation innovation. Whenever we click on that and new page appears for that organization only. And we can connect. We can add or give buttons or something. And on that page where we can add our accounts respectively.\n",
            "Speaker E | [1708.44-1709.32] Okay. With me.\n",
            "Speaker B | [1710.6-1711.8] I have. I have.\n",
            "Speaker F | [1712.44-1714.2] I also. I have a question by the way.\n",
            "Speaker E | [1714.4-1716.24] Yeah, go ahead.\n",
            "Speaker F | [1716.96-1725.84] If the person wants to like let's say the user wants to summarize a single meeting. Will there be an option for that at the final build?\n",
            "Speaker A | [1728.08-1735.0] Yeah, I think Aziza made it like that. Only like once the meeting is over, there is a transcribe option.\n",
            "Speaker B | [1735.0-1735.44] Yeah.\n",
            "Speaker A | [1735.76-1736.64] Can you show us?\n",
            "Speaker B | [1736.88-1746.1] Yeah. So when. When I go to the organization. Okay. There are. There. There will be some meeting where one are like one is like summarize. One is like.\n",
            "Speaker F | [1746.26-1748.98] I mean like for meetings that aren't in an organization.\n",
            "Speaker A | [1751.62-1760.98] So you need to. The meetings need to be a part of that organization to be here to be displayed here. So something like that.\n",
            "Speaker F | [1761.22-1763.94] So this is like strictly for organization meeting.\n",
            "Speaker A | [1765.54-1766.02] Yeah.\n",
            "Speaker B | [1766.34-1771.36] So. Okay. So Johil. Okay. Said like.\n",
            "Speaker E | [1771.52-1772.24] Excuse me.\n",
            "Speaker B | [1773.12-1773.6] Yes.\n",
            "Speaker E | [1773.76-1776.64] Here the question. So we need to make sure.\n",
            "Speaker F | [1776.72-1777.28] I understand.\n",
            "Speaker E | [1777.76-1779.64] He is satisfied with the answer. Okay.\n",
            "Speaker B | [1779.64-1780.48] Okay. Okay.\n",
            "Speaker E | [1781.36-1782.64] So Akhtar.\n",
            "Speaker F | [1783.92-1784.4] Yes.\n",
            "Speaker E | [1785.2-1794.24] We are not saying what you are doing is right. But at this moment, as Kashmira pointed out, it is all based on organizations. Okay.\n",
            "Speaker B | [1794.46-1794.74] Okay.\n",
            "Speaker F | [1794.74-1795.66] Yeah, that makes sense.\n",
            "Speaker E | [1796.14-1804.06] Later on we might come and think about something else. But at this moment, that is the restricted scope we decided. Okay.\n",
            "Speaker B | [1804.22-1804.86] Okay.\n",
            "Speaker E | [1806.86-1807.74] Okay. Sorry.\n",
            "Speaker B | [1809.66-1861.98] It's okay. So Joel said like when we click in the organization afterward like you know, you want. You know ask like to put in button or something like that. But I would say like, you know, initially we just put three button here. If you. If he click in the login with zoom, he click on the login. Login with Zoom like sign in and then like in the rest of the time, you know, we will. You know, he will see every time when you come to home screen, he already connected connect to the Zoom. You are not connected to the other platform. You know. So our users will be like most of the name because nab in like technical field. You know, they just want something. They just want something like meeting. And there's just one summarize it. You know, we. We should like make it more user friendly and like more easy. Like nave friendly, you know. Jru.\n",
            "Speaker C | [1861.98-1874.86] Yeah, yeah, yeah, I. I get it. But how will we implement. How will we separate different Zoom account from different organization if we display it here? That is my concern.\n",
            "Speaker E | [1877.5-1878.06] Okay.\n",
            "Speaker C | [1879.82-1881.82] Yeah, but we decided.\n",
            "Speaker E | [1883.18-1895.1] Yeah, just one second. What he's trying to point out is next generation innovation Zoom account could be different from you know, freelance designers have Zoom account. Okay.\n",
            "Speaker B | [1896.06-1896.7] Okay.\n",
            "Speaker E | [1896.94-1905.34] So that's why he's. He's suggesting to segment it that way. Okay. And it's a good idea to think about.\n",
            "Speaker B | [1905.61-1947.7] Okay, but he. But every. Yeah, it's okay. His idea is really nice. But. But it's like every time user like has to be signed login in another account, another account, like multiple. You know, so it's pretty like. Like one kind of like you know, next like Nast Nest, we call it a Nest loop. You know, nest thing. You know. So I'm just. I'm. If I am a user, you know, if I every time I sign in in different one different one is. It's gonna make, you know, more hard. You know. So that's what I'm saying. This is my opinion. You guys are right. You know, this measures.\n",
            "Speaker E | [1949.86-1959.79] This is brainstorming. So don't worry about it. So Jeroel. Yes. I think what would be good if you and I you have a session.\n",
            "Speaker B | [1960.83-1961.31] Yeah.\n",
            "Speaker E | [1961.47-1962.83] Think about it offline.\n",
            "Speaker C | [1964.03-1964.51] Yeah.\n",
            "Speaker E | [1964.83-1975.07] And come up with a idea which you know, after the discussion. Okay. And present it to us tomorrow. Okay.\n",
            "Speaker A | [1976.75-1986.73] So what I would suggest is that we need to show the product by Sunday. So just add one Zoom button somewhere so that Idol can connect it.\n",
            "Speaker E | [1987.45-1994.41] You are right. Kashmir today accepting Zoom. We should not worry about any other button. Okay. You are right.\n",
            "Speaker A | [1994.65-2001.37] There is no organization also. So just add a button anywhere so that you guys can connect later on.\n",
            "Speaker B | [2004.81-2044.7] Yeah. Okay. And Akhtar, so I need you for testing. Okay. So these test Sunday. Okay. You have attentive. Okay. So because you will test all the signing, you know, sign in is working or sign up is working or like for. For good. Password is working. Or create account is working or not. You know, I'll. I'll share everything, all the data and all the access. You know, you will just test. His test is and if, if you get any bugs or any error, you just like write down on and you just let me know or let the J rule know. Okay. Yes.\n",
            "Speaker E | [2045.02-2060.58] He put a message. Exactly. Suggesting that he will do that. When you were doing he, he had, he had a message in the zoom whatever it is button. So aar what you suggest is exactly what A is saying. Okay.\n",
            "Speaker F | [2060.58-2061.1] Yes.\n",
            "Speaker E | [2063.58-2071.76] So two of you are synchronized. Okay. Very good. Eggie. Did you do anything today?\n",
            "Speaker D | [2072.64-2076.24] Yeah, I was testing the. Testing the Zoom authentication.\n",
            "Speaker E | [2078.24-2079.12] And did it.\n",
            "Speaker D | [2079.12-2089.92] Work and because the app on Zoom itself isn't connected yet, we need to use ISTX account to finish the authentication.\n",
            "Speaker E | [2090.16-2091.76] But you have a CX account.\n",
            "Speaker D | [2092.73-2095.05] Yeah, we're gonna, we have to connect it tomorrow.\n",
            "Speaker E | [2095.05-2099.13] Okay. So you and J should work on it and connect it. Okay.\n",
            "Speaker D | [2099.53-2100.01] Yeah.\n",
            "Speaker E | [2105.21-2106.73] Kashmir, did you do anything?\n",
            "Speaker A | [2107.53-2130.35] Yeah. So I was able to cut down the time from four hours to 30 minutes around. But like initially let's test it out. Let's wait for half an hour then I can reduce the time as we proceed like for the first, first product. Let's keep it as it is then I'll improve the code so that it takes less amount of time.\n",
            "Speaker E | [2130.75-2136.83] So on. On Sunday when you demonstrate is that 30 minute thing going to bother us?\n",
            "Speaker A | [2137.63-2151.98] I'll show the code to you tomorrow then you can decide. Then Johirul and Azizur has to use my code and incorporate it to the app. So I don't know exactly if it's going to bother us or not.\n",
            "Speaker E | [2152.38-2159.98] So you know, it might be worthwhile for you to talk to Zoe Rul about it.\n",
            "Speaker A | [2160.46-2161.5] Yeah, yeah, yeah.\n",
            "Speaker E | [2161.98-2170.06] I'm not. I'm not very knowledgeable about all this, all these things and I don't know how it. How it is going to work out. If it is half an hour.\n",
            "Speaker A | [2171.1-2182.58] No, it'll probably. There are some things which are getting downloaded and after that like let me show the code tomorrow then. Yeah, we can decide what is the best thing.\n",
            "Speaker E | [2183.22-2190.5] Sure. But it is more important that jruen understands what you. What you are doing. Okay. And.\n",
            "Speaker A | [2190.5-2192.5] Yeah, yeah, yeah.\n",
            "Speaker C | [2193.62-2200.42] So Kashmir, are you means using local. Have you downloaded the model in your.\n",
            "Speaker A | [2201.62-2234.21] I'll just show whatever I have done right now I can show it to you guys. So see first of all I'm downloading some stuff from GitHub. I'm using Whisper X which is by Open AI so the these downloading pips take some time, and then I have. I am. The main thing that I am doing is that when I run this code, there is something.\n"
          ]
        }
      ]
    }
  ]
}