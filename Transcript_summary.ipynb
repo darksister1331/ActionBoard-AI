{
  "nbformat": 4,
  "nbformat_minor": 0,
  "metadata": {
    "colab": {
      "provenance": [],
      "authorship_tag": "ABX9TyNRKsOSe+H207r81K1YwXBW",
      "include_colab_link": true
    },
    "kernelspec": {
      "name": "python3",
      "display_name": "Python 3"
    },
    "language_info": {
      "name": "python"
    }
  },
  "cells": [
    {
      "cell_type": "markdown",
      "metadata": {
        "id": "view-in-github",
        "colab_type": "text"
      },
      "source": [
        "<a href=\"https://colab.research.google.com/github/darksister1331/ActionBoard-AI/blob/main/Transcript_summary.ipynb\" target=\"_parent\"><img src=\"https://colab.research.google.com/assets/colab-badge.svg\" alt=\"Open In Colab\"/></a>"
      ]
    },
    {
      "cell_type": "code",
      "source": [
        "!pip install cohere"
      ],
      "metadata": {
        "colab": {
          "base_uri": "https://localhost:8080/"
        },
        "collapsed": true,
        "id": "HCq-poByUvQS",
        "outputId": "a351ed6e-5b3a-4278-d336-c18bda96c807"
      },
      "execution_count": null,
      "outputs": [
        {
          "output_type": "stream",
          "name": "stdout",
          "text": [
            "Collecting cohere\n",
            "  Downloading cohere-5.15.0-py3-none-any.whl.metadata (3.4 kB)\n",
            "Collecting fastavro<2.0.0,>=1.9.4 (from cohere)\n",
            "  Downloading fastavro-1.11.1-cp311-cp311-manylinux_2_17_x86_64.manylinux2014_x86_64.whl.metadata (5.7 kB)\n",
            "Requirement already satisfied: httpx>=0.21.2 in /usr/local/lib/python3.11/dist-packages (from cohere) (0.28.1)\n",
            "Collecting httpx-sse==0.4.0 (from cohere)\n",
            "  Downloading httpx_sse-0.4.0-py3-none-any.whl.metadata (9.0 kB)\n",
            "Requirement already satisfied: pydantic>=1.9.2 in /usr/local/lib/python3.11/dist-packages (from cohere) (2.11.5)\n",
            "Requirement already satisfied: pydantic-core<3.0.0,>=2.18.2 in /usr/local/lib/python3.11/dist-packages (from cohere) (2.33.2)\n",
            "Requirement already satisfied: requests<3.0.0,>=2.0.0 in /usr/local/lib/python3.11/dist-packages (from cohere) (2.32.3)\n",
            "Requirement already satisfied: tokenizers<1,>=0.15 in /usr/local/lib/python3.11/dist-packages (from cohere) (0.21.1)\n",
            "Collecting types-requests<3.0.0,>=2.0.0 (from cohere)\n",
            "  Downloading types_requests-2.32.0.20250602-py3-none-any.whl.metadata (2.1 kB)\n",
            "Requirement already satisfied: typing_extensions>=4.0.0 in /usr/local/lib/python3.11/dist-packages (from cohere) (4.14.0)\n",
            "Requirement already satisfied: anyio in /usr/local/lib/python3.11/dist-packages (from httpx>=0.21.2->cohere) (4.9.0)\n",
            "Requirement already satisfied: certifi in /usr/local/lib/python3.11/dist-packages (from httpx>=0.21.2->cohere) (2025.4.26)\n",
            "Requirement already satisfied: httpcore==1.* in /usr/local/lib/python3.11/dist-packages (from httpx>=0.21.2->cohere) (1.0.9)\n",
            "Requirement already satisfied: idna in /usr/local/lib/python3.11/dist-packages (from httpx>=0.21.2->cohere) (3.10)\n",
            "Requirement already satisfied: h11>=0.16 in /usr/local/lib/python3.11/dist-packages (from httpcore==1.*->httpx>=0.21.2->cohere) (0.16.0)\n",
            "Requirement already satisfied: annotated-types>=0.6.0 in /usr/local/lib/python3.11/dist-packages (from pydantic>=1.9.2->cohere) (0.7.0)\n",
            "Requirement already satisfied: typing-inspection>=0.4.0 in /usr/local/lib/python3.11/dist-packages (from pydantic>=1.9.2->cohere) (0.4.1)\n",
            "Requirement already satisfied: charset-normalizer<4,>=2 in /usr/local/lib/python3.11/dist-packages (from requests<3.0.0,>=2.0.0->cohere) (3.4.2)\n",
            "Requirement already satisfied: urllib3<3,>=1.21.1 in /usr/local/lib/python3.11/dist-packages (from requests<3.0.0,>=2.0.0->cohere) (2.4.0)\n",
            "Requirement already satisfied: huggingface-hub<1.0,>=0.16.4 in /usr/local/lib/python3.11/dist-packages (from tokenizers<1,>=0.15->cohere) (0.32.4)\n",
            "Requirement already satisfied: filelock in /usr/local/lib/python3.11/dist-packages (from huggingface-hub<1.0,>=0.16.4->tokenizers<1,>=0.15->cohere) (3.18.0)\n",
            "Requirement already satisfied: fsspec>=2023.5.0 in /usr/local/lib/python3.11/dist-packages (from huggingface-hub<1.0,>=0.16.4->tokenizers<1,>=0.15->cohere) (2025.3.2)\n",
            "Requirement already satisfied: packaging>=20.9 in /usr/local/lib/python3.11/dist-packages (from huggingface-hub<1.0,>=0.16.4->tokenizers<1,>=0.15->cohere) (24.2)\n",
            "Requirement already satisfied: pyyaml>=5.1 in /usr/local/lib/python3.11/dist-packages (from huggingface-hub<1.0,>=0.16.4->tokenizers<1,>=0.15->cohere) (6.0.2)\n",
            "Requirement already satisfied: tqdm>=4.42.1 in /usr/local/lib/python3.11/dist-packages (from huggingface-hub<1.0,>=0.16.4->tokenizers<1,>=0.15->cohere) (4.67.1)\n",
            "Requirement already satisfied: hf-xet<2.0.0,>=1.1.2 in /usr/local/lib/python3.11/dist-packages (from huggingface-hub<1.0,>=0.16.4->tokenizers<1,>=0.15->cohere) (1.1.2)\n",
            "Requirement already satisfied: sniffio>=1.1 in /usr/local/lib/python3.11/dist-packages (from anyio->httpx>=0.21.2->cohere) (1.3.1)\n",
            "Downloading cohere-5.15.0-py3-none-any.whl (259 kB)\n",
            "\u001b[2K   \u001b[90m━━━━━━━━━━━━━━━━━━━━━━━━━━━━━━━━━━━━━━━━\u001b[0m \u001b[32m259.5/259.5 kB\u001b[0m \u001b[31m11.4 MB/s\u001b[0m eta \u001b[36m0:00:00\u001b[0m\n",
            "\u001b[?25hDownloading httpx_sse-0.4.0-py3-none-any.whl (7.8 kB)\n",
            "Downloading fastavro-1.11.1-cp311-cp311-manylinux_2_17_x86_64.manylinux2014_x86_64.whl (3.3 MB)\n",
            "\u001b[2K   \u001b[90m━━━━━━━━━━━━━━━━━━━━━━━━━━━━━━━━━━━━━━━━\u001b[0m \u001b[32m3.3/3.3 MB\u001b[0m \u001b[31m65.7 MB/s\u001b[0m eta \u001b[36m0:00:00\u001b[0m\n",
            "\u001b[?25hDownloading types_requests-2.32.0.20250602-py3-none-any.whl (20 kB)\n",
            "Installing collected packages: types-requests, httpx-sse, fastavro, cohere\n",
            "Successfully installed cohere-5.15.0 fastavro-1.11.1 httpx-sse-0.4.0 types-requests-2.32.0.20250602\n"
          ]
        }
      ]
    },
    {
      "cell_type": "markdown",
      "source": [
        "### Minutes of Meeting"
      ],
      "metadata": {
        "id": "cnqj_1Pwbncy"
      }
    },
    {
      "cell_type": "code",
      "source": [
        "import cohere\n",
        "\n",
        "# Initialize with your API key\n",
        "co = cohere.Client(\"tl4K8mFoScI9bZpaFra9EnIXdNlWGKm3LDz1748p\")  # Replace with your actual API key\n",
        "\n",
        "# Load the transcript\n",
        "with open(\"/content/speaker_transcript.txt\", \"r\") as file:  #Send Utterance transcript in this line\n",
        "    transcript = file.read()\n",
        "\n",
        "# Construct prompt for structured summary\n",
        "prompt = f\"\"\"\n",
        "You are an AI assistant that reads meeting transcripts and produces structured summaries.\n",
        "Please read the transcript below and return:\n",
        "\n",
        "1.**Meeting Agenda**\n",
        "2. **Minutes of the Meeting**\n",
        "4. **Action Items**\n",
        "\n",
        "Format your output using section headers.\n",
        "\n",
        "Transcript:\n",
        "{transcript}\n",
        "\"\"\"\n",
        "\n",
        "# Generate structured summary\n",
        "response = co.generate(\n",
        "    model=\"command-r-plus\",  # or \"command-nightly\"\n",
        "    prompt=prompt,\n",
        "    max_tokens=1500,\n",
        "    temperature=0.3\n",
        ")\n",
        "# Print structured summary\n",
        "print(response.generations[0].text.strip())"
      ],
      "metadata": {
        "colab": {
          "base_uri": "https://localhost:8080/"
        },
        "id": "yGhFxoYPWYSx",
        "outputId": "5f90bb1c-99f4-43dd-9341-f85ccbbfa414"
      },
      "execution_count": null,
      "outputs": [
        {
          "output_type": "stream",
          "name": "stdout",
          "text": [
            "## Meeting Agenda:\n",
            "- Walkthrough of the web application and its current features\n",
            "- Discussion of bugs and issues found during testing\n",
            "- Integration with Zoom and other meeting platforms\n",
            "- Suggestions for additional features and improvements\n",
            "- Testing and debugging plan for the upcoming deadline\n",
            "\n",
            "## Minutes of the Meeting:\n",
            "- Speaker B demonstrates the web application, including the homepage, sign-up, login, and dashboard features.\n",
            "- There is discussion about bugs and issues found during testing, including problems with date of birth validation and email verification.\n",
            "- Speaker C explains their progress on integrating Zoom and the need for additional testing.\n",
            "- Speaker A suggests adding a Zoom button to the homepage for easier connection.\n",
            "- The team discusses the scope of the project and how to handle meetings that aren't part of an organization.\n",
            "- Speaker F asks about summarizing single meetings, and Speaker A confirms that this is an option.\n",
            "- Speaker B suggests adding buttons for Google Meet and Microsoft Teams.\n",
            "- Speaker C raises concerns about separating Zoom accounts for different organizations and suggests a solution.\n",
            "- The team agrees to further discuss the organization and button placement offline.\n",
            "- Speaker A suggests showing the product by Sunday and adding a Zoom button for connection.\n",
            "- Speaker A presents their progress on reducing processing time for the transcription model.\n",
            "\n",
            "## Action Items:\n",
            "- Speaker B to share their screen and demonstrate the web application.\n",
            "- Speakers B and C to meet and discuss the organization and button placement.\n",
            "- Speaker A to show their code and discuss the processing time with Speaker B.\n",
            "- Speaker F to test the application and report any bugs or issues to Speaker B.\n",
            "- All team members to continue working on their respective tasks to meet the upcoming deadline.\n"
          ]
        }
      ]
    },
    {
      "cell_type": "code",
      "source": [
        "print(response.generations[0].text.strip())"
      ],
      "metadata": {
        "colab": {
          "base_uri": "https://localhost:8080/"
        },
        "id": "ciEKx_8Fciam",
        "outputId": "990dd80a-ca7b-48f3-ab9a-0926baf9c7e5"
      },
      "execution_count": null,
      "outputs": [
        {
          "output_type": "stream",
          "name": "stdout",
          "text": [
            "## Meeting Agenda:\n",
            "- Walkthrough of the web application and its current features\n",
            "- Discussion of bugs and issues found during testing\n",
            "- Integration with Zoom and other meeting platforms\n",
            "- Suggestions for additional features and improvements\n",
            "- Testing and debugging plan for the upcoming deadline\n",
            "\n",
            "## Minutes of the Meeting:\n",
            "- Speaker B demonstrates the web application, including the homepage, sign-up, login, and dashboard features.\n",
            "- There is discussion about bugs and issues found during testing, including problems with date of birth validation and email verification.\n",
            "- Speaker C explains their progress on integrating Zoom and the need for additional testing.\n",
            "- Speaker A suggests adding a Zoom button to the homepage for easier connection.\n",
            "- The team discusses the scope of the project and how to handle meetings that aren't part of an organization.\n",
            "- Speaker F asks about summarizing single meetings, and Speaker A confirms that this is an option.\n",
            "- Speaker B suggests adding buttons for Google Meet and Microsoft Teams.\n",
            "- Speaker C raises concerns about separating Zoom accounts for different organizations and suggests a solution.\n",
            "- The team agrees to further discuss the organization and button placement offline.\n",
            "- Speaker A suggests showing the product by Sunday and adding a Zoom button for connection.\n",
            "- Speaker A presents their progress on reducing processing time for the transcription model.\n",
            "\n",
            "## Action Items:\n",
            "- Speaker B to share their screen and demonstrate the web application.\n",
            "- Speakers B and C to meet and discuss the organization and button placement.\n",
            "- Speaker A to show their code and discuss the processing time with Speaker B.\n",
            "- Speaker F to test the application and report any bugs or issues to Speaker B.\n",
            "- All team members to continue working on their respective tasks to meet the upcoming deadline.\n"
          ]
        }
      ]
    },
    {
      "cell_type": "markdown",
      "source": [
        "Edit Speaker Names"
      ],
      "metadata": {
        "id": "DhtgrrO6a9LG"
      }
    },
    {
      "cell_type": "code",
      "source": [
        "import re\n",
        "\n",
        "# Step 1: Paste the summary you already have (multiline string)\n",
        "summary_text = response.generations[0].text.strip()\n",
        "\n",
        "# Step 2: Detect all speaker labels\n",
        "speaker_tags = sorted(set(re.findall(r\"\\bSpeaker\\s[A-Z]\\b\", summary_text)))\n",
        "\n",
        "# Step 3: Ask user for real speaker names\n",
        "speaker_map = {}\n",
        "print(\"Enter names for the speakers:\\n\")\n",
        "for tag in speaker_tags:\n",
        "    real_name = input(f\"Who is {tag}? \")\n",
        "    speaker_map[tag] = real_name\n",
        "\n",
        "# Step 4: Replace speaker tags with names\n",
        "final_summary = summary_text\n",
        "for tag, name in speaker_map.items():\n",
        "    final_summary = re.sub(rf\"\\b{tag}\\b\", name, final_summary)\n",
        "\n",
        "# Step 5: Show updated summary\n",
        "print(\"\\nFinal Summary with Speaker Names:\\n\")\n",
        "print(final_summary)\n"
      ],
      "metadata": {
        "colab": {
          "base_uri": "https://localhost:8080/"
        },
        "id": "HnRnVoOffL0n",
        "outputId": "28df04d0-0b9a-4653-9ef7-b489a91d81dc"
      },
      "execution_count": null,
      "outputs": [
        {
          "output_type": "stream",
          "name": "stdout",
          "text": [
            "Enter names for the speakers:\n",
            "\n",
            "Who is Speaker A? Kashmira\n",
            "Who is Speaker B? Aizur\n",
            "Who is Speaker C? Dr Das\n",
            "Who is Speaker F? JOhurul\n",
            "\n",
            "Final Summary with Speaker Names:\n",
            "\n",
            "## Meeting Agenda:\n",
            "- Walkthrough of the web application and its current features\n",
            "- Discussion of bugs and issues found during testing\n",
            "- Integration with Zoom and other meeting platforms\n",
            "- Suggestions for additional features and improvements\n",
            "- Testing and debugging plan for the upcoming deadline\n",
            "\n",
            "## Minutes of the Meeting:\n",
            "- Aizur demonstrates the web application, including the homepage, sign-up, login, and dashboard features.\n",
            "- There is discussion about bugs and issues found during testing, including problems with date of birth validation and email verification.\n",
            "- Dr Das explains their progress on integrating Zoom and the need for additional testing.\n",
            "- Kashmira suggests adding a Zoom button to the homepage for easier connection.\n",
            "- The team discusses the scope of the project and how to handle meetings that aren't part of an organization.\n",
            "- JOhurul asks about summarizing single meetings, and Kashmira confirms that this is an option.\n",
            "- Aizur suggests adding buttons for Google Meet and Microsoft Teams.\n",
            "- Dr Das raises concerns about separating Zoom accounts for different organizations and suggests a solution.\n",
            "- The team agrees to further discuss the organization and button placement offline.\n",
            "- Kashmira suggests showing the product by Sunday and adding a Zoom button for connection.\n",
            "- Kashmira presents their progress on reducing processing time for the transcription model.\n",
            "\n",
            "## Action Items:\n",
            "- Aizur to share their screen and demonstrate the web application.\n",
            "- Speakers B and C to meet and discuss the organization and button placement.\n",
            "- Kashmira to show their code and discuss the processing time with Aizur.\n",
            "- JOhurul to test the application and report any bugs or issues to Aizur.\n",
            "- All team members to continue working on their respective tasks to meet the upcoming deadline.\n"
          ]
        }
      ]
    },
    {
      "cell_type": "code",
      "source": [
        "import cohere\n",
        "\n",
        "co = cohere.Client(\"tl4K8mFoScI9bZpaFra9EnIXdNlWGKm3LDz1748p\")  # Replace with your real API key\n"
      ],
      "metadata": {
        "id": "L-i77Kj0Zh9w"
      },
      "execution_count": null,
      "outputs": []
    },
    {
      "cell_type": "markdown",
      "source": [
        "### Speaker Summary"
      ],
      "metadata": {
        "id": "9zlFFpf7bHQU"
      }
    },
    {
      "cell_type": "code",
      "source": [
        "for speaker, text in speaker_texts.items():\n",
        "    prompt = f\"\"\"You are an AI assistant. Summarize the following meeting contributions made by {speaker}.\n",
        "Only summarize their individual contributions. Mention tasks, opinions, or explanations they provided.\n",
        "\n",
        "Text:\n",
        "{text}\n",
        "\"\"\"\n",
        "    response = co.generate(\n",
        "        model=\"command\",  # Use \"command\" for free tier\n",
        "        prompt=prompt,\n",
        "        max_tokens=500,\n",
        "        temperature=0.3\n",
        "    )\n",
        "\n",
        "    summary = response.generations[0].text.strip()\n",
        "    print(f\"=== Summary for {speaker} ===\\n{summary}\\n\\n\")\n"
      ],
      "metadata": {
        "colab": {
          "base_uri": "https://localhost:8080/",
          "height": 220
        },
        "id": "yQpRPXYRZsau",
        "outputId": "009f876a-2b88-4dc7-ffc2-106cc265e3e3"
      },
      "execution_count": null,
      "outputs": [
        {
          "output_type": "error",
          "ename": "NameError",
          "evalue": "name 'speaker_texts' is not defined",
          "traceback": [
            "\u001b[0;31m---------------------------------------------------------------------------\u001b[0m",
            "\u001b[0;31mNameError\u001b[0m                                 Traceback (most recent call last)",
            "\u001b[0;32m<ipython-input-8-1efd584e60e4>\u001b[0m in \u001b[0;36m<cell line: 0>\u001b[0;34m()\u001b[0m\n\u001b[0;32m----> 1\u001b[0;31m \u001b[0;32mfor\u001b[0m \u001b[0mspeaker\u001b[0m\u001b[0;34m,\u001b[0m \u001b[0mtext\u001b[0m \u001b[0;32min\u001b[0m \u001b[0mspeaker_texts\u001b[0m\u001b[0;34m.\u001b[0m\u001b[0mitems\u001b[0m\u001b[0;34m(\u001b[0m\u001b[0;34m)\u001b[0m\u001b[0;34m:\u001b[0m\u001b[0;34m\u001b[0m\u001b[0;34m\u001b[0m\u001b[0m\n\u001b[0m\u001b[1;32m      2\u001b[0m     prompt = f\"\"\"You are an AI assistant. Summarize the following meeting contributions made by {speaker}.\n\u001b[1;32m      3\u001b[0m \u001b[0mOnly\u001b[0m \u001b[0msummarize\u001b[0m \u001b[0mtheir\u001b[0m \u001b[0mindividual\u001b[0m \u001b[0mcontributions\u001b[0m\u001b[0;34m.\u001b[0m \u001b[0mMention\u001b[0m \u001b[0mtasks\u001b[0m\u001b[0;34m,\u001b[0m \u001b[0mopinions\u001b[0m\u001b[0;34m,\u001b[0m \u001b[0;32mor\u001b[0m \u001b[0mexplanations\u001b[0m \u001b[0mthey\u001b[0m \u001b[0mprovided\u001b[0m\u001b[0;34m.\u001b[0m\u001b[0;34m\u001b[0m\u001b[0;34m\u001b[0m\u001b[0m\n\u001b[1;32m      4\u001b[0m \u001b[0;34m\u001b[0m\u001b[0m\n\u001b[1;32m      5\u001b[0m \u001b[0mText\u001b[0m\u001b[0;34m:\u001b[0m\u001b[0;34m\u001b[0m\u001b[0;34m\u001b[0m\u001b[0m\n",
            "\u001b[0;31mNameError\u001b[0m: name 'speaker_texts' is not defined"
          ]
        }
      ]
    },
    {
      "cell_type": "markdown",
      "source": [
        "Edit Speaker Names for Speaker Summary"
      ],
      "metadata": {
        "id": "zOi8RkYobYiI"
      }
    },
    {
      "cell_type": "code",
      "source": [
        "import re\n",
        "from collections import defaultdict\n",
        "import cohere\n",
        "\n",
        "# Step 1: Load transcript\n",
        "with open(\"/content/speaker_transcript.txt\", \"r\") as f:  #Send Utterance transcript in this line\n",
        "    transcript = f.read()\n",
        "\n",
        "# Step 2: Extract each speaker's full speech\n",
        "pattern = re.compile(r\"^(Speaker [A-Z])\\s+\\|\\s+\\[\\d+\\.\\d+-\\d+\\.\\d+\\]\\s+(.*)$\", re.MULTILINE)\n",
        "speaker_texts = defaultdict(list)\n",
        "\n",
        "for match in pattern.finditer(transcript):\n",
        "    speaker = match.group(1)\n",
        "    text = match.group(2).strip()\n",
        "    speaker_texts[speaker].append(text)\n",
        "\n",
        "# Combine all lines for each speaker\n",
        "speaker_texts = {speaker: \" \".join(lines) for speaker, lines in speaker_texts.items()}\n",
        "\n",
        "# Step 3: Ask user for real speaker names\n",
        "print(\"Please enter real names for the following speakers:\")\n",
        "speaker_map = {}\n",
        "for speaker in sorted(speaker_texts.keys()):\n",
        "    name = input(f\"{speaker} is: \")\n",
        "    speaker_map[speaker] = name\n",
        "\n",
        "# Step 4: Summarize each speaker's contributions using Cohere\n",
        "co = cohere.Client(\"tl4K8mFoScI9bZpaFra9EnIXdNlWGKm3LDz1748p\")  # Replace with your actual API key\n",
        "\n",
        "speaker_summaries = {}\n",
        "for speaker, text in speaker_texts.items():\n",
        "    prompt = f\"\"\"You are an AI assistant. Summarize the following meeting contributions made by {speaker_map[speaker]}.\n",
        "Only summarize their individual contributions. Mention tasks, opinions, or explanations they provided.\n",
        "\n",
        "Text:\n",
        "{text}\n",
        "\"\"\"\n",
        "    response = co.generate(\n",
        "        model=\"command\",  # Use \"command\" for free tier\n",
        "        prompt=prompt,\n",
        "        max_tokens=500,\n",
        "        temperature=0.3\n",
        "    )\n",
        "\n",
        "    summary = response.generations[0].text.strip()\n",
        "    speaker_summaries[speaker_map[speaker]] = summary\n",
        "\n",
        "# Step 5: Display summaries with real names\n",
        "for real_name, summary in speaker_summaries.items():\n",
        "    print(f\"\\n=== Summary for {real_name} ===\\n{summary}\\n\")\n"
      ],
      "metadata": {
        "colab": {
          "base_uri": "https://localhost:8080/"
        },
        "id": "SJzNrcz_Wt9U",
        "outputId": "41e6d52e-97a1-43bb-a9ec-7142c221ae13"
      },
      "execution_count": null,
      "outputs": [
        {
          "output_type": "stream",
          "name": "stdout",
          "text": [
            "Please enter real names for the following speakers:\n",
            "Speaker A is: Azizur\n",
            "Speaker B is: Kashmira\n",
            "Speaker C is: JOhurul\n",
            "Speaker D is: Dr das\n",
            "Speaker E is: Aggie\n",
            "Speaker F is: Akhtar\n",
            "\n",
            "=== Summary for Azizur ===\n",
            "Azizur contributes by suggesting they try putting a Zoom button on the app for easier connection purposes. He also suggests adding an organization option only after the meeting has ended. He is able to cut the time of code downloading from four hours to 30 minutes. He will show the code to the team tomorrow for review.\n",
            "\n",
            "\n",
            "=== Summary for Kashmira ===\n",
            "Kashmira contributed the following to the meeting:\n",
            "\n",
            "- Kashmira worked with General on a meeting yesterday to collaborate on API work.\n",
            "- Today, Kashmira completed signing and OTB verification, and worked on creating an account for a user on a website. \n",
            "- Kashmira shared the screen to show the website home page, and demonstrated the authentication and sign-in process. \n",
            "- They also spoke about adding features to the user profile, and the team decided to add a favorite meetings section. \n",
            "- There was an issue with the backend that caused some problems during the demonstration, and Kashmira reported it to the team. \n",
            "- They also discussed the user experience of the website and suggested making the login process more user-friendly by eliminating the need for users to log in to multiple accounts. \n",
            "\n",
            "Let me know if there's anything else I can help you with!\n",
            "\n",
            "\n",
            "=== Summary for JOhurul ===\n",
            "Here is a summary of Johann's contributions to the meeting: \n",
            "\n",
            "- Johann has integrated Zoom but cannot fetch previous meetings with their account. \n",
            "- They suggest adding a function that allows users to create new accounts under each organization to differentiate between accounts. \n",
            "- They voice concerns about how to separate different Zoom accounts from different organizations and offer potential solutions. \n",
            "- Johann discusses the need to test functions using Aggies as testers. \n",
            "\n",
            "Does this capture the key points from Johann's contributions? Let me know if anything needs added or clarified further.\n",
            "\n",
            "\n",
            "=== Summary for Dr das ===\n",
            "Dr. das contributed to the following: \n",
            "- Will send them shortly - unclear what \"them\" refers to\n",
            "- Was testing the Zoom authentication via the ISTX account\n",
            "- Will connect the app on Zoom itself tomorrow\n",
            "\n",
            "Can I help you with anything else?  I understand summarizing meeting contributions and can do so for other meetings or discussions if needed.\n",
            "\n",
            "\n",
            "=== Summary for Aggie ===\n",
            "Aggie provided the following contributions to the meeting: \n",
            "\n",
            "- Informed the group that they had trouble accessing the meeting and requested the meeting link be sent again\n",
            "- Volunteered their birthdate as an example for the development of an app the group was working on\n",
            "- Asked questions regarding the necessary features for the account buttons and offered suggestions to improve consistency across platforms \n",
            "- Conveyed the opinion that the group should not worry about the different Zoom accounts for different organizations at the moment and should instead focus on the current scope of the project at hand\n",
            "- Recognized the good work and suggestions of others throughout the meeting \n",
            "\n",
            "Let me know if there's anything else I can do for you!\n",
            "\n",
            "\n",
            "=== Summary for Akhtar ===\n",
            "Akhtar's first contribution was pertaining to the website and their curiosity if users will have the ability to summarize meetings that are not specifically from an organization. \n",
            "Their second contribution involved asking clarifying questions to ensure they understood that the focus of the product was solely on organizational meetings. \n",
            "Their third contribution was a confirmation that the previous explanation made sense to them, stating \"yes\".\n",
            "\n"
          ]
        }
      ]
    },
    {
      "cell_type": "markdown",
      "source": [
        "### Edit Summary and add action items"
      ],
      "metadata": {
        "id": "CXtktdcjGyNy"
      }
    },
    {
      "cell_type": "code",
      "source": [
        "# === OPTIONAL STEP: Edit Summaries Interactively ===\n",
        "print(\"\\nNow you can edit the summaries. Press Enter to keep the original summary.\")\n",
        "\n",
        "edited_summaries = {}\n",
        "\n",
        "for real_name, summary in speaker_summaries.items():\n",
        "    print(f\"\\n--- Current summary for {real_name} ---\\n{summary}\")\n",
        "    print(\"Enter your edited version (or press Enter to keep the original):\")\n",
        "    edited = input()\n",
        "    if edited.strip():\n",
        "        edited_summaries[real_name] = edited.strip()\n",
        "    else:\n",
        "        edited_summaries[real_name] = summary\n"
      ],
      "metadata": {
        "colab": {
          "base_uri": "https://localhost:8080/"
        },
        "id": "l6Bb1WZHGCbR",
        "outputId": "e982cede-460c-4216-d685-446b4f0ab3dd"
      },
      "execution_count": null,
      "outputs": [
        {
          "output_type": "stream",
          "name": "stdout",
          "text": [
            "\n",
            "Now you can edit the summaries. Press Enter to keep the original summary.\n",
            "\n",
            "--- Current summary for Azizur ---\n",
            "Azizur contributes by suggesting they try putting a Zoom button on the app for easier connection purposes. He also suggests adding an organization option only after the meeting has ended. He is able to cut the time of code downloading from four hours to 30 minutes. He will show the code to the team tomorrow for review.\n",
            "Enter your edited version (or press Enter to keep the original):\n",
            "\n",
            "\n",
            "--- Current summary for Kashmira ---\n",
            "Kashmira contributed the following to the meeting:\n",
            "\n",
            "- Kashmira worked with General on a meeting yesterday to collaborate on API work.\n",
            "- Today, Kashmira completed signing and OTB verification, and worked on creating an account for a user on a website. \n",
            "- Kashmira shared the screen to show the website home page, and demonstrated the authentication and sign-in process. \n",
            "- They also spoke about adding features to the user profile, and the team decided to add a favorite meetings section. \n",
            "- There was an issue with the backend that caused some problems during the demonstration, and Kashmira reported it to the team. \n",
            "- They also discussed the user experience of the website and suggested making the login process more user-friendly by eliminating the need for users to log in to multiple accounts. \n",
            "\n",
            "Let me know if there's anything else I can help you with!\n",
            "Enter your edited version (or press Enter to keep the original):\n",
            "add option to edit the summary\n",
            "\n",
            "--- Current summary for JOhurul ---\n",
            "Here is a summary of Johann's contributions to the meeting: \n",
            "\n",
            "- Johann has integrated Zoom but cannot fetch previous meetings with their account. \n",
            "- They suggest adding a function that allows users to create new accounts under each organization to differentiate between accounts. \n",
            "- They voice concerns about how to separate different Zoom accounts from different organizations and offer potential solutions. \n",
            "- Johann discusses the need to test functions using Aggies as testers. \n",
            "\n",
            "Does this capture the key points from Johann's contributions? Let me know if anything needs added or clarified further.\n",
            "Enter your edited version (or press Enter to keep the original):\n",
            "Use API for TEAMs\n",
            "\n",
            "--- Current summary for Dr das ---\n",
            "Dr. das contributed to the following: \n",
            "- Will send them shortly - unclear what \"them\" refers to\n",
            "- Was testing the Zoom authentication via the ISTX account\n",
            "- Will connect the app on Zoom itself tomorrow\n",
            "\n",
            "Can I help you with anything else?  I understand summarizing meeting contributions and can do so for other meetings or discussions if needed.\n",
            "Enter your edited version (or press Enter to keep the original):\n",
            "Change the layout\n",
            "\n",
            "--- Current summary for Aggie ---\n",
            "Aggie provided the following contributions to the meeting: \n",
            "\n",
            "- Informed the group that they had trouble accessing the meeting and requested the meeting link be sent again\n",
            "- Volunteered their birthdate as an example for the development of an app the group was working on\n",
            "- Asked questions regarding the necessary features for the account buttons and offered suggestions to improve consistency across platforms \n",
            "- Conveyed the opinion that the group should not worry about the different Zoom accounts for different organizations at the moment and should instead focus on the current scope of the project at hand\n",
            "- Recognized the good work and suggestions of others throughout the meeting \n",
            "\n",
            "Let me know if there's anything else I can do for you!\n",
            "Enter your edited version (or press Enter to keep the original):\n",
            "\n",
            "\n",
            "--- Current summary for Akhtar ---\n",
            "Akhtar's first contribution was pertaining to the website and their curiosity if users will have the ability to summarize meetings that are not specifically from an organization. \n",
            "Their second contribution involved asking clarifying questions to ensure they understood that the focus of the product was solely on organizational meetings. \n",
            "Their third contribution was a confirmation that the previous explanation made sense to them, stating \"yes\".\n",
            "Enter your edited version (or press Enter to keep the original):\n",
            "\n",
            "\n",
            "=== Final Edited Summaries ===\n",
            "\n",
            "Azizur:\n",
            "Azizur contributes by suggesting they try putting a Zoom button on the app for easier connection purposes. He also suggests adding an organization option only after the meeting has ended. He is able to cut the time of code downloading from four hours to 30 minutes. He will show the code to the team tomorrow for review.\n",
            "\n",
            "\n",
            "Kashmira:\n",
            "add option to edit the summary\n",
            "\n",
            "\n",
            "JOhurul:\n",
            "Use API for TEAMs\n",
            "\n",
            "\n",
            "Dr das:\n",
            "Change the layout\n",
            "\n",
            "\n",
            "Aggie:\n",
            "Aggie provided the following contributions to the meeting: \n",
            "\n",
            "- Informed the group that they had trouble accessing the meeting and requested the meeting link be sent again\n",
            "- Volunteered their birthdate as an example for the development of an app the group was working on\n",
            "- Asked questions regarding the necessary features for the account buttons and offered suggestions to improve consistency across platforms \n",
            "- Conveyed the opinion that the group should not worry about the different Zoom accounts for different organizations at the moment and should instead focus on the current scope of the project at hand\n",
            "- Recognized the good work and suggestions of others throughout the meeting \n",
            "\n",
            "Let me know if there's anything else I can do for you!\n",
            "\n",
            "\n",
            "Akhtar:\n",
            "Akhtar's first contribution was pertaining to the website and their curiosity if users will have the ability to summarize meetings that are not specifically from an organization. \n",
            "Their second contribution involved asking clarifying questions to ensure they understood that the focus of the product was solely on organizational meetings. \n",
            "Their third contribution was a confirmation that the previous explanation made sense to them, stating \"yes\".\n",
            "\n"
          ]
        }
      ]
    }
  ]
}